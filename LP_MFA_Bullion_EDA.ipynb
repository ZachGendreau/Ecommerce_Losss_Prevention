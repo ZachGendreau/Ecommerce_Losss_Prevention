{
  "nbformat": 4,
  "nbformat_minor": 0,
  "metadata": {
    "colab": {
      "provenance": [],
      "authorship_tag": "ABX9TyMAKmB/a1YQNq5PbcbxjGCO",
      "include_colab_link": true
    },
    "kernelspec": {
      "name": "python3",
      "display_name": "Python 3"
    },
    "language_info": {
      "name": "python"
    }
  },
  "cells": [
    {
      "cell_type": "markdown",
      "metadata": {
        "id": "view-in-github",
        "colab_type": "text"
      },
      "source": [
        "<a href=\"https://colab.research.google.com/github/ZachGendreau/Ecommerce_Losss_Prevention/blob/main/LP_MFA_Bullion_EDA.ipynb\" target=\"_parent\"><img src=\"https://colab.research.google.com/assets/colab-badge.svg\" alt=\"Open In Colab\"/></a>"
      ]
    },
    {
      "cell_type": "code",
      "execution_count": null,
      "metadata": {
        "id": "Ty-Gs0NmTloK"
      },
      "outputs": [],
      "source": [
        "import pandas as pd\n",
        "import numpy as np\n",
        "import matplotlib.pyplot as plt\n",
        "import seaborn as sns"
      ]
    },
    {
      "cell_type": "code",
      "source": [
        "# prompt: connect to drive\n",
        "\n",
        "from google.colab import drive\n",
        "drive.mount('/content/drive')"
      ],
      "metadata": {
        "id": "89aDk31w-Qdb",
        "outputId": "872a021a-9af6-4876-df87-9443f46942e2",
        "colab": {
          "base_uri": "https://localhost:8080/",
          "height": 321
        }
      },
      "execution_count": 33,
      "outputs": [
        {
          "output_type": "error",
          "ename": "ValueError",
          "evalue": "The domain policy has disabled Drive File Stream: https://support.google.com/a/answer/7496409",
          "traceback": [
            "\u001b[0;31m---------------------------------------------------------------------------\u001b[0m",
            "\u001b[0;31mValueError\u001b[0m                                Traceback (most recent call last)",
            "\u001b[0;32m/tmp/ipython-input-33-3165419797.py\u001b[0m in \u001b[0;36m<cell line: 0>\u001b[0;34m()\u001b[0m\n\u001b[1;32m      2\u001b[0m \u001b[0;34m\u001b[0m\u001b[0m\n\u001b[1;32m      3\u001b[0m \u001b[0;32mfrom\u001b[0m \u001b[0mgoogle\u001b[0m\u001b[0;34m.\u001b[0m\u001b[0mcolab\u001b[0m \u001b[0;32mimport\u001b[0m \u001b[0mdrive\u001b[0m\u001b[0;34m\u001b[0m\u001b[0;34m\u001b[0m\u001b[0m\n\u001b[0;32m----> 4\u001b[0;31m \u001b[0mdrive\u001b[0m\u001b[0;34m.\u001b[0m\u001b[0mmount\u001b[0m\u001b[0;34m(\u001b[0m\u001b[0;34m'/content/drive'\u001b[0m\u001b[0;34m)\u001b[0m\u001b[0;34m\u001b[0m\u001b[0;34m\u001b[0m\u001b[0m\n\u001b[0m",
            "\u001b[0;32m/usr/local/lib/python3.11/dist-packages/google/colab/drive.py\u001b[0m in \u001b[0;36mmount\u001b[0;34m(mountpoint, force_remount, timeout_ms, readonly)\u001b[0m\n\u001b[1;32m     98\u001b[0m \u001b[0;32mdef\u001b[0m \u001b[0mmount\u001b[0m\u001b[0;34m(\u001b[0m\u001b[0mmountpoint\u001b[0m\u001b[0;34m,\u001b[0m \u001b[0mforce_remount\u001b[0m\u001b[0;34m=\u001b[0m\u001b[0;32mFalse\u001b[0m\u001b[0;34m,\u001b[0m \u001b[0mtimeout_ms\u001b[0m\u001b[0;34m=\u001b[0m\u001b[0;36m120000\u001b[0m\u001b[0;34m,\u001b[0m \u001b[0mreadonly\u001b[0m\u001b[0;34m=\u001b[0m\u001b[0;32mFalse\u001b[0m\u001b[0;34m)\u001b[0m\u001b[0;34m:\u001b[0m\u001b[0;34m\u001b[0m\u001b[0;34m\u001b[0m\u001b[0m\n\u001b[1;32m     99\u001b[0m   \u001b[0;34m\"\"\"Mount your Google Drive at the specified mountpoint path.\"\"\"\u001b[0m\u001b[0;34m\u001b[0m\u001b[0;34m\u001b[0m\u001b[0m\n\u001b[0;32m--> 100\u001b[0;31m   return _mount(\n\u001b[0m\u001b[1;32m    101\u001b[0m       \u001b[0mmountpoint\u001b[0m\u001b[0;34m,\u001b[0m\u001b[0;34m\u001b[0m\u001b[0;34m\u001b[0m\u001b[0m\n\u001b[1;32m    102\u001b[0m       \u001b[0mforce_remount\u001b[0m\u001b[0;34m=\u001b[0m\u001b[0mforce_remount\u001b[0m\u001b[0;34m,\u001b[0m\u001b[0;34m\u001b[0m\u001b[0;34m\u001b[0m\u001b[0m\n",
            "\u001b[0;32m/usr/local/lib/python3.11/dist-packages/google/colab/drive.py\u001b[0m in \u001b[0;36m_mount\u001b[0;34m(mountpoint, force_remount, timeout_ms, ephemeral, readonly)\u001b[0m\n\u001b[1;32m    285\u001b[0m       \u001b[0;31m# Now kill bash.\u001b[0m\u001b[0;34m\u001b[0m\u001b[0;34m\u001b[0m\u001b[0m\n\u001b[1;32m    286\u001b[0m       \u001b[0md\u001b[0m\u001b[0;34m.\u001b[0m\u001b[0mkill\u001b[0m\u001b[0;34m(\u001b[0m\u001b[0m_signal\u001b[0m\u001b[0;34m.\u001b[0m\u001b[0mSIGKILL\u001b[0m\u001b[0;34m)\u001b[0m\u001b[0;34m\u001b[0m\u001b[0;34m\u001b[0m\u001b[0m\n\u001b[0;32m--> 287\u001b[0;31m       raise ValueError(\n\u001b[0m\u001b[1;32m    288\u001b[0m           \u001b[0mstr\u001b[0m\u001b[0;34m(\u001b[0m\u001b[0mdomain_disabled_drivefs\u001b[0m\u001b[0;34m)\u001b[0m\u001b[0;34m\u001b[0m\u001b[0;34m\u001b[0m\u001b[0m\n\u001b[1;32m    289\u001b[0m           \u001b[0;34m+\u001b[0m \u001b[0;34m': https://support.google.com/a/answer/7496409'\u001b[0m\u001b[0;34m\u001b[0m\u001b[0;34m\u001b[0m\u001b[0m\n",
            "\u001b[0;31mValueError\u001b[0m: The domain policy has disabled Drive File Stream: https://support.google.com/a/answer/7496409"
          ]
        }
      ]
    },
    {
      "cell_type": "code",
      "source": [
        "df = pd.read_csv(\"Jewelery_EDA_v1.csv\")"
      ],
      "metadata": {
        "id": "EAnldLxN5e7y"
      },
      "execution_count": 9,
      "outputs": []
    },
    {
      "cell_type": "code",
      "source": [
        "df.columns"
      ],
      "metadata": {
        "id": "kobrPz6f5mkr",
        "outputId": "182a5304-2fdd-4468-e41c-33f296c4fd21",
        "colab": {
          "base_uri": "https://localhost:8080/"
        }
      },
      "execution_count": 11,
      "outputs": [
        {
          "output_type": "execute_result",
          "data": {
            "text/plain": [
              "Index(['RecordID', 'ORDER_DATE', 'HOUR', 'ORDER_NUMBER', 'ORDER_TYPE',\n",
              "       'ORDER_STATUS', 'WHS', 'DEPT', 'CAT', 'ITEM_NUMBER', 'ITEM_DESC',\n",
              "       'ITEM_PRICE', 'ORDERED_QTY', 'CANCELLED_QTY', 'NAME', 'Length',\n",
              "       'SOURCESHIPCODE', 'ITEM_CT', 'REASON_CODE', 'HOLD_AUDIT', 'EXCLUDE',\n",
              "       'HA_DATE', 'HA_DATE/TIME', 'MAX_TIME', 'Max_MAX_TIME', 'CDDEPT',\n",
              "       'Dept Desc', 'Cat Code', 'CAT I Desc', 'CAT II Desc', 'CAT III Desc',\n",
              "       'HOLD_AUDIT_CT', 'HOLD_AUDIT II', 'OIL CANCEL', 'METHOD DETAIL',\n",
              "       'SALES', 'TIME_FRAME', 'LP CAN REASON', 'Date Check', 'Max_ORDER_DATE'],\n",
              "      dtype='object')"
            ]
          },
          "metadata": {},
          "execution_count": 11
        }
      ]
    },
    {
      "cell_type": "code",
      "source": [
        "df.shape"
      ],
      "metadata": {
        "id": "uEYx4HD65mdg",
        "outputId": "a38ca335-930c-4093-d69c-81b2c0b00c97",
        "colab": {
          "base_uri": "https://localhost:8080/"
        }
      },
      "execution_count": 13,
      "outputs": [
        {
          "output_type": "execute_result",
          "data": {
            "text/plain": [
              "(26253, 40)"
            ]
          },
          "metadata": {},
          "execution_count": 13
        }
      ]
    },
    {
      "cell_type": "code",
      "source": [
        "df.head(1)"
      ],
      "metadata": {
        "id": "62tUaR7y5s1F",
        "outputId": "d0121fac-f9fc-4648-b2a7-a5a952d75d4b",
        "colab": {
          "base_uri": "https://localhost:8080/",
          "height": 182
        }
      },
      "execution_count": 14,
      "outputs": [
        {
          "output_type": "execute_result",
          "data": {
            "text/plain": [
              "   RecordID  ORDER_DATE  HOUR  ORDER_NUMBER  ORDER_TYPE ORDER_STATUS  WHS  \\\n",
              "0        22  2025-05-28     5    1199571404           1      Ordered  847   \n",
              "\n",
              "   DEPT  CAT  ITEM_NUMBER  ...  CAT III Desc  HOLD_AUDIT_CT  HOLD_AUDIT II  \\\n",
              "0    35  LLL      1943074  ...  GOLD BULLION            NaN            NaN   \n",
              "\n",
              "   OIL CANCEL         METHOD DETAIL    SALES TIME_FRAME  LP CAN REASON  \\\n",
              "0         NaN  SMALL PACK - JEWELRY  3369.99      WEEK3            NaN   \n",
              "\n",
              "   Date Check Max_ORDER_DATE  \n",
              "0  2025-06-18     2025-06-18  \n",
              "\n",
              "[1 rows x 40 columns]"
            ],
            "text/html": [
              "\n",
              "  <div id=\"df-3c7f7d98-e461-4832-b675-c6cd1e26a08f\" class=\"colab-df-container\">\n",
              "    <div>\n",
              "<style scoped>\n",
              "    .dataframe tbody tr th:only-of-type {\n",
              "        vertical-align: middle;\n",
              "    }\n",
              "\n",
              "    .dataframe tbody tr th {\n",
              "        vertical-align: top;\n",
              "    }\n",
              "\n",
              "    .dataframe thead th {\n",
              "        text-align: right;\n",
              "    }\n",
              "</style>\n",
              "<table border=\"1\" class=\"dataframe\">\n",
              "  <thead>\n",
              "    <tr style=\"text-align: right;\">\n",
              "      <th></th>\n",
              "      <th>RecordID</th>\n",
              "      <th>ORDER_DATE</th>\n",
              "      <th>HOUR</th>\n",
              "      <th>ORDER_NUMBER</th>\n",
              "      <th>ORDER_TYPE</th>\n",
              "      <th>ORDER_STATUS</th>\n",
              "      <th>WHS</th>\n",
              "      <th>DEPT</th>\n",
              "      <th>CAT</th>\n",
              "      <th>ITEM_NUMBER</th>\n",
              "      <th>...</th>\n",
              "      <th>CAT III Desc</th>\n",
              "      <th>HOLD_AUDIT_CT</th>\n",
              "      <th>HOLD_AUDIT II</th>\n",
              "      <th>OIL CANCEL</th>\n",
              "      <th>METHOD DETAIL</th>\n",
              "      <th>SALES</th>\n",
              "      <th>TIME_FRAME</th>\n",
              "      <th>LP CAN REASON</th>\n",
              "      <th>Date Check</th>\n",
              "      <th>Max_ORDER_DATE</th>\n",
              "    </tr>\n",
              "  </thead>\n",
              "  <tbody>\n",
              "    <tr>\n",
              "      <th>0</th>\n",
              "      <td>22</td>\n",
              "      <td>2025-05-28</td>\n",
              "      <td>5</td>\n",
              "      <td>1199571404</td>\n",
              "      <td>1</td>\n",
              "      <td>Ordered</td>\n",
              "      <td>847</td>\n",
              "      <td>35</td>\n",
              "      <td>LLL</td>\n",
              "      <td>1943074</td>\n",
              "      <td>...</td>\n",
              "      <td>GOLD BULLION</td>\n",
              "      <td>NaN</td>\n",
              "      <td>NaN</td>\n",
              "      <td>NaN</td>\n",
              "      <td>SMALL PACK - JEWELRY</td>\n",
              "      <td>3369.99</td>\n",
              "      <td>WEEK3</td>\n",
              "      <td>NaN</td>\n",
              "      <td>2025-06-18</td>\n",
              "      <td>2025-06-18</td>\n",
              "    </tr>\n",
              "  </tbody>\n",
              "</table>\n",
              "<p>1 rows × 40 columns</p>\n",
              "</div>\n",
              "    <div class=\"colab-df-buttons\">\n",
              "\n",
              "  <div class=\"colab-df-container\">\n",
              "    <button class=\"colab-df-convert\" onclick=\"convertToInteractive('df-3c7f7d98-e461-4832-b675-c6cd1e26a08f')\"\n",
              "            title=\"Convert this dataframe to an interactive table.\"\n",
              "            style=\"display:none;\">\n",
              "\n",
              "  <svg xmlns=\"http://www.w3.org/2000/svg\" height=\"24px\" viewBox=\"0 -960 960 960\">\n",
              "    <path d=\"M120-120v-720h720v720H120Zm60-500h600v-160H180v160Zm220 220h160v-160H400v160Zm0 220h160v-160H400v160ZM180-400h160v-160H180v160Zm440 0h160v-160H620v160ZM180-180h160v-160H180v160Zm440 0h160v-160H620v160Z\"/>\n",
              "  </svg>\n",
              "    </button>\n",
              "\n",
              "  <style>\n",
              "    .colab-df-container {\n",
              "      display:flex;\n",
              "      gap: 12px;\n",
              "    }\n",
              "\n",
              "    .colab-df-convert {\n",
              "      background-color: #E8F0FE;\n",
              "      border: none;\n",
              "      border-radius: 50%;\n",
              "      cursor: pointer;\n",
              "      display: none;\n",
              "      fill: #1967D2;\n",
              "      height: 32px;\n",
              "      padding: 0 0 0 0;\n",
              "      width: 32px;\n",
              "    }\n",
              "\n",
              "    .colab-df-convert:hover {\n",
              "      background-color: #E2EBFA;\n",
              "      box-shadow: 0px 1px 2px rgba(60, 64, 67, 0.3), 0px 1px 3px 1px rgba(60, 64, 67, 0.15);\n",
              "      fill: #174EA6;\n",
              "    }\n",
              "\n",
              "    .colab-df-buttons div {\n",
              "      margin-bottom: 4px;\n",
              "    }\n",
              "\n",
              "    [theme=dark] .colab-df-convert {\n",
              "      background-color: #3B4455;\n",
              "      fill: #D2E3FC;\n",
              "    }\n",
              "\n",
              "    [theme=dark] .colab-df-convert:hover {\n",
              "      background-color: #434B5C;\n",
              "      box-shadow: 0px 1px 3px 1px rgba(0, 0, 0, 0.15);\n",
              "      filter: drop-shadow(0px 1px 2px rgba(0, 0, 0, 0.3));\n",
              "      fill: #FFFFFF;\n",
              "    }\n",
              "  </style>\n",
              "\n",
              "    <script>\n",
              "      const buttonEl =\n",
              "        document.querySelector('#df-3c7f7d98-e461-4832-b675-c6cd1e26a08f button.colab-df-convert');\n",
              "      buttonEl.style.display =\n",
              "        google.colab.kernel.accessAllowed ? 'block' : 'none';\n",
              "\n",
              "      async function convertToInteractive(key) {\n",
              "        const element = document.querySelector('#df-3c7f7d98-e461-4832-b675-c6cd1e26a08f');\n",
              "        const dataTable =\n",
              "          await google.colab.kernel.invokeFunction('convertToInteractive',\n",
              "                                                    [key], {});\n",
              "        if (!dataTable) return;\n",
              "\n",
              "        const docLinkHtml = 'Like what you see? Visit the ' +\n",
              "          '<a target=\"_blank\" href=https://colab.research.google.com/notebooks/data_table.ipynb>data table notebook</a>'\n",
              "          + ' to learn more about interactive tables.';\n",
              "        element.innerHTML = '';\n",
              "        dataTable['output_type'] = 'display_data';\n",
              "        await google.colab.output.renderOutput(dataTable, element);\n",
              "        const docLink = document.createElement('div');\n",
              "        docLink.innerHTML = docLinkHtml;\n",
              "        element.appendChild(docLink);\n",
              "      }\n",
              "    </script>\n",
              "  </div>\n",
              "\n",
              "\n",
              "    </div>\n",
              "  </div>\n"
            ],
            "application/vnd.google.colaboratory.intrinsic+json": {
              "type": "dataframe",
              "variable_name": "df"
            }
          },
          "metadata": {},
          "execution_count": 14
        }
      ]
    },
    {
      "cell_type": "code",
      "source": [
        "df2 = df[['RecordID', 'ORDER_DATE', 'HOUR', 'ITEM_NUMBER', 'ITEM_DESC',\n",
        "       'ITEM_PRICE', 'ORDERED_QTY', 'CANCELLED_QTY', 'NAME', 'Length',\n",
        "       'SOURCESHIPCODE', 'ITEM_CT', 'REASON_CODE', 'HOLD_AUDIT', 'EXCLUDE',\n",
        "       'HA_DATE', 'HA_DATE/TIME', 'MAX_TIME', 'Max_MAX_TIME', 'CDDEPT',\n",
        "       'Dept Desc',\n",
        "       'HOLD_AUDIT_CT', 'HOLD_AUDIT II', 'OIL CANCEL', 'METHOD DETAIL',\n",
        "       'SALES', 'TIME_FRAME', 'LP CAN REASON', 'Date Check', 'Max_ORDER_DATE']]"
      ],
      "metadata": {
        "id": "iwHBNCe45stz"
      },
      "execution_count": 17,
      "outputs": []
    },
    {
      "cell_type": "code",
      "source": [
        "plt.figure(figsize=(15, 5))\n",
        "sns.histplot(data=df2[df2['ORDER_DATE'] >= (pd.to_datetime(df2['ORDER_DATE']).max() - pd.Timedelta(days=21)).strftime('%Y-%m-%d')], x='ORDER_DATE')\n",
        "plt.xticks(rotation=90)\n",
        "plt.tight_layout()\n",
        "plt.show()"
      ],
      "metadata": {
        "id": "Epau1v9L6lFE",
        "outputId": "cd4ef928-40c1-4741-a783-0503089f1994",
        "colab": {
          "base_uri": "https://localhost:8080/",
          "height": 507
        }
      },
      "execution_count": 21,
      "outputs": [
        {
          "output_type": "display_data",
          "data": {
            "text/plain": [
              "<Figure size 1500x500 with 1 Axes>"
            ],
            "image/png": "[encoded data removed]"
          },
          "metadata": {}
        }
      ]
    },
    {
      "cell_type": "code",
      "source": [
        "\n",
        "df2['ORDER_DATE'] = pd.to_datetime(df2['ORDER_DATE'])\n",
        "plt.figure(figsize=(15, 5))\n",
        "sns.histplot(data=df2[df2['ORDER_DATE'].dt.date == df2['ORDER_DATE'].max().date()], x='HOUR', bins=24)\n",
        "plt.xticks(rotation=90)\n",
        "plt.tight_layout()\n",
        "plt.show()"
      ],
      "metadata": {
        "id": "UlXu9ZB17DUH",
        "outputId": "c4ecc0d4-2a0d-4b22-a06c-d3abcc8ec8dc",
        "colab": {
          "base_uri": "https://localhost:8080/",
          "height": 610
        }
      },
      "execution_count": 22,
      "outputs": [
        {
          "output_type": "stream",
          "name": "stderr",
          "text": [
            "/tmp/ipython-input-22-707008584.py:5: SettingWithCopyWarning: \n",
            "A value is trying to be set on a copy of a slice from a DataFrame.\n",
            "Try using .loc[row_indexer,col_indexer] = value instead\n",
            "\n",
            "See the caveats in the documentation: https://pandas.pydata.org/pandas-docs/stable/user_guide/indexing.html#returning-a-view-versus-a-copy\n",
            "  df2['ORDER_DATE'] = pd.to_datetime(df2['ORDER_DATE'])\n"
          ]
        },
        {
          "output_type": "display_data",
          "data": {
            "text/plain": [
              "<Figure size 1500x500 with 1 Axes>"
            ],
            "image/png": "[encoded data removed]"
          },
          "metadata": {}
        }
      ]
    },
    {
      "cell_type": "code",
      "source": [
        "df_cancelled = df2[df2['ORDER_STATUS'] == 'Cancelled']\n",
        "df_cancelled.shape"
      ],
      "metadata": {
        "id": "J82v12Sa7MII",
        "outputId": "442a2c72-08c0-481f-a9b8-e648d9fbd267",
        "colab": {
          "base_uri": "https://localhost:8080/"
        }
      },
      "execution_count": 24,
      "outputs": [
        {
          "output_type": "execute_result",
          "data": {
            "text/plain": [
              "(1897, 36)"
            ]
          },
          "metadata": {},
          "execution_count": 24
        }
      ]
    },
    {
      "cell_type": "code",
      "source": [
        "plt.figure(figsize=(15, 5))\n",
        "sns.histplot(data=df_cancelled, x='ORDER_DATE')\n",
        "plt.xticks(rotation=90)\n",
        "plt.tight_layout()\n",
        "plt.show()"
      ],
      "metadata": {
        "id": "F3kR0TSa7WHo",
        "outputId": "df181048-88da-4a68-bd9a-0e2217eb6077",
        "colab": {
          "base_uri": "https://localhost:8080/",
          "height": 507
        }
      },
      "execution_count": 28,
      "outputs": [
        {
          "output_type": "display_data",
          "data": {
            "text/plain": [
              "<Figure size 1500x500 with 1 Axes>"
            ],
            "image/png": "[encoded data removed]"
          },
          "metadata": {}
        }
      ]
    },
    {
      "cell_type": "code",
      "source": [
        "print(np.average(df_cancelled['ITEM_PRICE'])),\n",
        "print(np.average(df_cancelled['ORDERED_QTY'])),\n"
      ],
      "metadata": {
        "id": "OKDkpaAU78Ti",
        "outputId": "1dd069cf-921a-4142-ca25-33e48ef4d9c3",
        "colab": {
          "base_uri": "https://localhost:8080/"
        }
      },
      "execution_count": 32,
      "outputs": [
        {
          "output_type": "stream",
          "name": "stdout",
          "text": [
            "3004.695239852398\n",
            "1.4786505007907222\n"
          ]
        }
      ]
    },
    {
      "cell_type": "markdown",
      "source": [
        "#Orders"
      ],
      "metadata": {
        "id": "dpxKKKuj84bb"
      }
    },
    {
      "cell_type": "markdown",
      "source": [
        "## Orders (Past 21)"
      ],
      "metadata": {
        "id": "DifKSaom9CBn"
      }
    },
    {
      "cell_type": "code",
      "source": [],
      "metadata": {
        "id": "3Kt4D9BA9N1m"
      },
      "execution_count": null,
      "outputs": []
    },
    {
      "cell_type": "markdown",
      "source": [
        "## Sales (Past 21)"
      ],
      "metadata": {
        "id": "y3thDdRj8-gK"
      }
    },
    {
      "cell_type": "markdown",
      "source": [
        "##Units (Past 21)"
      ],
      "metadata": {
        "id": "cZcSyb-39HMs"
      }
    },
    {
      "cell_type": "markdown",
      "source": [
        "#Cancels"
      ],
      "metadata": {
        "id": "AkRtvtXX86UN"
      }
    },
    {
      "cell_type": "code",
      "source": [],
      "metadata": {
        "id": "VTDao6tu8mdU"
      },
      "execution_count": null,
      "outputs": []
    }
  ]
}
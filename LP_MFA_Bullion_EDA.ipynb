{
  "nbformat": 4,
  "nbformat_minor": 0,
  "metadata": {
    "colab": {
      "provenance": [],
      "authorship_tag": "ABX9TyPQw14oEYEh5h538YoHatrL",
      "include_colab_link": true
    },
    "kernelspec": {
      "name": "python3",
      "display_name": "Python 3"
    },
    "language_info": {
      "name": "python"
    }
  },
  "cells": [
    {
      "cell_type": "markdown",
      "metadata": {
        "id": "view-in-github",
        "colab_type": "text"
      },
      "source": [
        "<a href=\"https://colab.research.google.com/github/ZachGendreau/Ecommerce_Losss_Prevention/blob/main/LP_MFA_Bullion_EDA.ipynb\" target=\"_parent\"><img src=\"https://colab.research.google.com/assets/colab-badge.svg\" alt=\"Open In Colab\"/></a>"
      ]
    },
    {
      "cell_type": "code",
      "execution_count": null,
      "metadata": {
        "id": "Ty-Gs0NmTloK"
      },
      "outputs": [],
      "source": [
        "import pandas as pd\n",
        "import numpy as np\n",
        "import matplotlib.pyplot as plt\n",
        "import seaborn as sns"
      ]
    },
    {
      "cell_type": "code",
      "source": [
        "df = pd.read_csv(\"Jewelery_EDA_v2.csv\")"
      ],
      "metadata": {
        "id": "EAnldLxN5e7y"
      },
      "execution_count": 36,
      "outputs": []
    },
    {
      "cell_type": "code",
      "source": [
        "df.columns, df.shape, df.head(1)"
      ],
      "metadata": {
        "colab": {
          "base_uri": "https://localhost:8080/"
        },
        "id": "kobrPz6f5mkr",
        "outputId": "c9bf1ee2-48b5-4327-a9c6-2e6259d97a81"
      },
      "execution_count": 37,
      "outputs": [
        {
          "output_type": "execute_result",
          "data": {
            "text/plain": [
              "(Index(['RecordID', 'ORDER_DATE', 'HOUR', 'ORDER_NUMBER', 'ORDER_TYPE',\n",
              "        'ORDER_STATUS', 'WHS', 'DEPT', 'CAT', 'ITEM_NUMBER', 'ITEM_DESC',\n",
              "        'ITEM_PRICE', 'ORDERED_QTY', 'CANCELLED_QTY', 'NAME', 'Length',\n",
              "        'SOURCESHIPCODE', 'ITEM_CT', 'REASON_CODE', 'HOLD_AUDIT', 'EXCLUDE',\n",
              "        'HA_DATE', 'HA_DATE/TIME', 'MAX_TIME', 'Max_MAX_TIME', 'CDDEPT',\n",
              "        'Dept Desc', 'Cat Code', 'CAT I Desc', 'CAT II Desc', 'CAT III Desc'],\n",
              "       dtype='object'),\n",
              " (26478, 31),\n",
              "    RecordID  ORDER_DATE  HOUR  ORDER_NUMBER  ORDER_TYPE ORDER_STATUS  WHS  \\\n",
              " 0        21  2025-05-29     5    1197673228           1      Ordered  847   \n",
              " \n",
              "    DEPT  CAT  ITEM_NUMBER  ...              HA_DATE         HA_DATE/TIME  \\\n",
              " 0    35  LLL      1943074  ...  2025-05-29 05:21:11  2025-05-29 05:21:11   \n",
              " \n",
              "    MAX_TIME  Max_MAX_TIME CDDEPT  Dept Desc Cat Code            CAT I Desc  \\\n",
              " 0      5.21           NaN     35    JEWELRY      LLL  SAP Auto Adjustments   \n",
              " \n",
              "   CAT II Desc  CAT III Desc  \n",
              " 0   STROLLERS  GOLD BULLION  \n",
              " \n",
              " [1 rows x 31 columns])"
            ]
          },
          "metadata": {},
          "execution_count": 37
        }
      ]
    },
    {
      "cell_type": "code",
      "source": [
        "df2 = df[['RecordID', 'ORDER_DATE', 'HOUR', 'ORDER_NUMBER',\n",
        "        'ORDER_STATUS', 'WHS', 'DEPT', 'CAT', 'ITEM_NUMBER', 'ITEM_DESC',\n",
        "        'ITEM_PRICE', 'ORDERED_QTY', 'CANCELLED_QTY', 'NAME', 'Length',\n",
        "        'SOURCESHIPCODE', 'ITEM_CT', 'REASON_CODE', 'HOLD_AUDIT',\n",
        "        'HA_DATE', 'HA_DATE/TIME', 'MAX_TIME', 'Max_MAX_TIME', 'CDDEPT',\n",
        "        'Dept Desc']]"
      ],
      "metadata": {
        "id": "iwHBNCe45stz"
      },
      "execution_count": 47,
      "outputs": []
    },
    {
      "cell_type": "code",
      "source": [
        "df2.tail(3)"
      ],
      "metadata": {
        "id": "BkXm5bfsCGVd",
        "outputId": "925af6eb-8238-48ca-d372-6d2658579511",
        "colab": {
          "base_uri": "https://localhost:8080/",
          "height": 314
        }
      },
      "execution_count": 57,
      "outputs": [
        {
          "output_type": "execute_result",
          "data": {
            "text/plain": [
              "       RecordID  ORDER_DATE  HOUR  ORDER_NUMBER ORDER_STATUS  WHS  DEPT  CAT  \\\n",
              "26475         1  2025-06-18     8    1204683437      Ordered  847    35  LLL   \n",
              "26476         1  2025-06-18     8    1204684269      Ordered  847    35  LLL   \n",
              "26477         1  2025-06-18     8    1204684398      Ordered  847    35  LLL   \n",
              "\n",
              "       ITEM_NUMBER                 ITEM_DESC  ...  SOURCESHIPCODE  ITEM_CT  \\\n",
              "26475      1943308  315400 PAMP 1OZ GOLD BAR  ...             F2N        1   \n",
              "26476      1943308  315400 PAMP 1OZ GOLD BAR  ...             F2N        1   \n",
              "26477      1913480      GUSAE25CARD AMERICAN  ...             F2N        1   \n",
              "\n",
              "       REASON_CODE HOLD_AUDIT              HA_DATE         HA_DATE/TIME  \\\n",
              "26475          NaN        NaN  2025-06-18 08:55:09  2025-06-18 08:55:09   \n",
              "26476          NaN        NaN  2025-06-18 08:56:13  2025-06-18 08:56:13   \n",
              "26477          NaN        NaN  2025-06-18 08:56:25  2025-06-18 08:56:25   \n",
              "\n",
              "       MAX_TIME Max_MAX_TIME CDDEPT Dept Desc  \n",
              "26475      8.55          NaN     35   JEWELRY  \n",
              "26476      8.56          NaN     35   JEWELRY  \n",
              "26477      8.56          NaN     35   JEWELRY  \n",
              "\n",
              "[3 rows x 25 columns]"
            ],
            "text/html": [
              "\n",
              "  <div id=\"df-23e9bffd-2604-4f8e-ad04-963e3097da04\" class=\"colab-df-container\">\n",
              "    <div>\n",
              "<style scoped>\n",
              "    .dataframe tbody tr th:only-of-type {\n",
              "        vertical-align: middle;\n",
              "    }\n",
              "\n",
              "    .dataframe tbody tr th {\n",
              "        vertical-align: top;\n",
              "    }\n",
              "\n",
              "    .dataframe thead th {\n",
              "        text-align: right;\n",
              "    }\n",
              "</style>\n",
              "<table border=\"1\" class=\"dataframe\">\n",
              "  <thead>\n",
              "    <tr style=\"text-align: right;\">\n",
              "      <th></th>\n",
              "      <th>RecordID</th>\n",
              "      <th>ORDER_DATE</th>\n",
              "      <th>HOUR</th>\n",
              "      <th>ORDER_NUMBER</th>\n",
              "      <th>ORDER_STATUS</th>\n",
              "      <th>WHS</th>\n",
              "      <th>DEPT</th>\n",
              "      <th>CAT</th>\n",
              "      <th>ITEM_NUMBER</th>\n",
              "      <th>ITEM_DESC</th>\n",
              "      <th>...</th>\n",
              "      <th>SOURCESHIPCODE</th>\n",
              "      <th>ITEM_CT</th>\n",
              "      <th>REASON_CODE</th>\n",
              "      <th>HOLD_AUDIT</th>\n",
              "      <th>HA_DATE</th>\n",
              "      <th>HA_DATE/TIME</th>\n",
              "      <th>MAX_TIME</th>\n",
              "      <th>Max_MAX_TIME</th>\n",
              "      <th>CDDEPT</th>\n",
              "      <th>Dept Desc</th>\n",
              "    </tr>\n",
              "  </thead>\n",
              "  <tbody>\n",
              "    <tr>\n",
              "      <th>26475</th>\n",
              "      <td>1</td>\n",
              "      <td>2025-06-18</td>\n",
              "      <td>8</td>\n",
              "      <td>1204683437</td>\n",
              "      <td>Ordered</td>\n",
              "      <td>847</td>\n",
              "      <td>35</td>\n",
              "      <td>LLL</td>\n",
              "      <td>1943308</td>\n",
              "      <td>315400 PAMP 1OZ GOLD BAR</td>\n",
              "      <td>...</td>\n",
              "      <td>F2N</td>\n",
              "      <td>1</td>\n",
              "      <td>NaN</td>\n",
              "      <td>NaN</td>\n",
              "      <td>2025-06-18 08:55:09</td>\n",
              "      <td>2025-06-18 08:55:09</td>\n",
              "      <td>8.55</td>\n",
              "      <td>NaN</td>\n",
              "      <td>35</td>\n",
              "      <td>JEWELRY</td>\n",
              "    </tr>\n",
              "    <tr>\n",
              "      <th>26476</th>\n",
              "      <td>1</td>\n",
              "      <td>2025-06-18</td>\n",
              "      <td>8</td>\n",
              "      <td>1204684269</td>\n",
              "      <td>Ordered</td>\n",
              "      <td>847</td>\n",
              "      <td>35</td>\n",
              "      <td>LLL</td>\n",
              "      <td>1943308</td>\n",
              "      <td>315400 PAMP 1OZ GOLD BAR</td>\n",
              "      <td>...</td>\n",
              "      <td>F2N</td>\n",
              "      <td>1</td>\n",
              "      <td>NaN</td>\n",
              "      <td>NaN</td>\n",
              "      <td>2025-06-18 08:56:13</td>\n",
              "      <td>2025-06-18 08:56:13</td>\n",
              "      <td>8.56</td>\n",
              "      <td>NaN</td>\n",
              "      <td>35</td>\n",
              "      <td>JEWELRY</td>\n",
              "    </tr>\n",
              "    <tr>\n",
              "      <th>26477</th>\n",
              "      <td>1</td>\n",
              "      <td>2025-06-18</td>\n",
              "      <td>8</td>\n",
              "      <td>1204684398</td>\n",
              "      <td>Ordered</td>\n",
              "      <td>847</td>\n",
              "      <td>35</td>\n",
              "      <td>LLL</td>\n",
              "      <td>1913480</td>\n",
              "      <td>GUSAE25CARD AMERICAN</td>\n",
              "      <td>...</td>\n",
              "      <td>F2N</td>\n",
              "      <td>1</td>\n",
              "      <td>NaN</td>\n",
              "      <td>NaN</td>\n",
              "      <td>2025-06-18 08:56:25</td>\n",
              "      <td>2025-06-18 08:56:25</td>\n",
              "      <td>8.56</td>\n",
              "      <td>NaN</td>\n",
              "      <td>35</td>\n",
              "      <td>JEWELRY</td>\n",
              "    </tr>\n",
              "  </tbody>\n",
              "</table>\n",
              "<p>3 rows × 25 columns</p>\n",
              "</div>\n",
              "    <div class=\"colab-df-buttons\">\n",
              "\n",
              "  <div class=\"colab-df-container\">\n",
              "    <button class=\"colab-df-convert\" onclick=\"convertToInteractive('df-23e9bffd-2604-4f8e-ad04-963e3097da04')\"\n",
              "            title=\"Convert this dataframe to an interactive table.\"\n",
              "            style=\"display:none;\">\n",
              "\n",
              "  <svg xmlns=\"http://www.w3.org/2000/svg\" height=\"24px\" viewBox=\"0 -960 960 960\">\n",
              "    <path d=\"M120-120v-720h720v720H120Zm60-500h600v-160H180v160Zm220 220h160v-160H400v160Zm0 220h160v-160H400v160ZM180-400h160v-160H180v160Zm440 0h160v-160H620v160ZM180-180h160v-160H180v160Zm440 0h160v-160H620v160Z\"/>\n",
              "  </svg>\n",
              "    </button>\n",
              "\n",
              "  <style>\n",
              "    .colab-df-container {\n",
              "      display:flex;\n",
              "      gap: 12px;\n",
              "    }\n",
              "\n",
              "    .colab-df-convert {\n",
              "      background-color: #E8F0FE;\n",
              "      border: none;\n",
              "      border-radius: 50%;\n",
              "      cursor: pointer;\n",
              "      display: none;\n",
              "      fill: #1967D2;\n",
              "      height: 32px;\n",
              "      padding: 0 0 0 0;\n",
              "      width: 32px;\n",
              "    }\n",
              "\n",
              "    .colab-df-convert:hover {\n",
              "      background-color: #E2EBFA;\n",
              "      box-shadow: 0px 1px 2px rgba(60, 64, 67, 0.3), 0px 1px 3px 1px rgba(60, 64, 67, 0.15);\n",
              "      fill: #174EA6;\n",
              "    }\n",
              "\n",
              "    .colab-df-buttons div {\n",
              "      margin-bottom: 4px;\n",
              "    }\n",
              "\n",
              "    [theme=dark] .colab-df-convert {\n",
              "      background-color: #3B4455;\n",
              "      fill: #D2E3FC;\n",
              "    }\n",
              "\n",
              "    [theme=dark] .colab-df-convert:hover {\n",
              "      background-color: #434B5C;\n",
              "      box-shadow: 0px 1px 3px 1px rgba(0, 0, 0, 0.15);\n",
              "      filter: drop-shadow(0px 1px 2px rgba(0, 0, 0, 0.3));\n",
              "      fill: #FFFFFF;\n",
              "    }\n",
              "  </style>\n",
              "\n",
              "    <script>\n",
              "      const buttonEl =\n",
              "        document.querySelector('#df-23e9bffd-2604-4f8e-ad04-963e3097da04 button.colab-df-convert');\n",
              "      buttonEl.style.display =\n",
              "        google.colab.kernel.accessAllowed ? 'block' : 'none';\n",
              "\n",
              "      async function convertToInteractive(key) {\n",
              "        const element = document.querySelector('#df-23e9bffd-2604-4f8e-ad04-963e3097da04');\n",
              "        const dataTable =\n",
              "          await google.colab.kernel.invokeFunction('convertToInteractive',\n",
              "                                                    [key], {});\n",
              "        if (!dataTable) return;\n",
              "\n",
              "        const docLinkHtml = 'Like what you see? Visit the ' +\n",
              "          '<a target=\"_blank\" href=https://colab.research.google.com/notebooks/data_table.ipynb>data table notebook</a>'\n",
              "          + ' to learn more about interactive tables.';\n",
              "        element.innerHTML = '';\n",
              "        dataTable['output_type'] = 'display_data';\n",
              "        await google.colab.output.renderOutput(dataTable, element);\n",
              "        const docLink = document.createElement('div');\n",
              "        docLink.innerHTML = docLinkHtml;\n",
              "        element.appendChild(docLink);\n",
              "      }\n",
              "    </script>\n",
              "  </div>\n",
              "\n",
              "\n",
              "    <div id=\"df-f4211f0a-f50d-48ae-a97d-d5dc2a50cbf5\">\n",
              "      <button class=\"colab-df-quickchart\" onclick=\"quickchart('df-f4211f0a-f50d-48ae-a97d-d5dc2a50cbf5')\"\n",
              "                title=\"Suggest charts\"\n",
              "                style=\"display:none;\">\n",
              "\n",
              "<svg xmlns=\"http://www.w3.org/2000/svg\" height=\"24px\"viewBox=\"0 0 24 24\"\n",
              "     width=\"24px\">\n",
              "    <g>\n",
              "        <path d=\"M19 3H5c-1.1 0-2 .9-2 2v14c0 1.1.9 2 2 2h14c1.1 0 2-.9 2-2V5c0-1.1-.9-2-2-2zM9 17H7v-7h2v7zm4 0h-2V7h2v10zm4 0h-2v-4h2v4z\"/>\n",
              "    </g>\n",
              "</svg>\n",
              "      </button>\n",
              "\n",
              "<style>\n",
              "  .colab-df-quickchart {\n",
              "      --bg-color: #E8F0FE;\n",
              "      --fill-color: #1967D2;\n",
              "      --hover-bg-color: #E2EBFA;\n",
              "      --hover-fill-color: #174EA6;\n",
              "      --disabled-fill-color: #AAA;\n",
              "      --disabled-bg-color: #DDD;\n",
              "  }\n",
              "\n",
              "  [theme=dark] .colab-df-quickchart {\n",
              "      --bg-color: #3B4455;\n",
              "      --fill-color: #D2E3FC;\n",
              "      --hover-bg-color: #434B5C;\n",
              "      --hover-fill-color: #FFFFFF;\n",
              "      --disabled-bg-color: #3B4455;\n",
              "      --disabled-fill-color: #666;\n",
              "  }\n",
              "\n",
              "  .colab-df-quickchart {\n",
              "    background-color: var(--bg-color);\n",
              "    border: none;\n",
              "    border-radius: 50%;\n",
              "    cursor: pointer;\n",
              "    display: none;\n",
              "    fill: var(--fill-color);\n",
              "    height: 32px;\n",
              "    padding: 0;\n",
              "    width: 32px;\n",
              "  }\n",
              "\n",
              "  .colab-df-quickchart:hover {\n",
              "    background-color: var(--hover-bg-color);\n",
              "    box-shadow: 0 1px 2px rgba(60, 64, 67, 0.3), 0 1px 3px 1px rgba(60, 64, 67, 0.15);\n",
              "    fill: var(--button-hover-fill-color);\n",
              "  }\n",
              "\n",
              "  .colab-df-quickchart-complete:disabled,\n",
              "  .colab-df-quickchart-complete:disabled:hover {\n",
              "    background-color: var(--disabled-bg-color);\n",
              "    fill: var(--disabled-fill-color);\n",
              "    box-shadow: none;\n",
              "  }\n",
              "\n",
              "  .colab-df-spinner {\n",
              "    border: 2px solid var(--fill-color);\n",
              "    border-color: transparent;\n",
              "    border-bottom-color: var(--fill-color);\n",
              "    animation:\n",
              "      spin 1s steps(1) infinite;\n",
              "  }\n",
              "\n",
              "  @keyframes spin {\n",
              "    0% {\n",
              "      border-color: transparent;\n",
              "      border-bottom-color: var(--fill-color);\n",
              "      border-left-color: var(--fill-color);\n",
              "    }\n",
              "    20% {\n",
              "      border-color: transparent;\n",
              "      border-left-color: var(--fill-color);\n",
              "      border-top-color: var(--fill-color);\n",
              "    }\n",
              "    30% {\n",
              "      border-color: transparent;\n",
              "      border-left-color: var(--fill-color);\n",
              "      border-top-color: var(--fill-color);\n",
              "      border-right-color: var(--fill-color);\n",
              "    }\n",
              "    40% {\n",
              "      border-color: transparent;\n",
              "      border-right-color: var(--fill-color);\n",
              "      border-top-color: var(--fill-color);\n",
              "    }\n",
              "    60% {\n",
              "      border-color: transparent;\n",
              "      border-right-color: var(--fill-color);\n",
              "    }\n",
              "    80% {\n",
              "      border-color: transparent;\n",
              "      border-right-color: var(--fill-color);\n",
              "      border-bottom-color: var(--fill-color);\n",
              "    }\n",
              "    90% {\n",
              "      border-color: transparent;\n",
              "      border-bottom-color: var(--fill-color);\n",
              "    }\n",
              "  }\n",
              "</style>\n",
              "\n",
              "      <script>\n",
              "        async function quickchart(key) {\n",
              "          const quickchartButtonEl =\n",
              "            document.querySelector('#' + key + ' button');\n",
              "          quickchartButtonEl.disabled = true;  // To prevent multiple clicks.\n",
              "          quickchartButtonEl.classList.add('colab-df-spinner');\n",
              "          try {\n",
              "            const charts = await google.colab.kernel.invokeFunction(\n",
              "                'suggestCharts', [key], {});\n",
              "          } catch (error) {\n",
              "            console.error('Error during call to suggestCharts:', error);\n",
              "          }\n",
              "          quickchartButtonEl.classList.remove('colab-df-spinner');\n",
              "          quickchartButtonEl.classList.add('colab-df-quickchart-complete');\n",
              "        }\n",
              "        (() => {\n",
              "          let quickchartButtonEl =\n",
              "            document.querySelector('#df-f4211f0a-f50d-48ae-a97d-d5dc2a50cbf5 button');\n",
              "          quickchartButtonEl.style.display =\n",
              "            google.colab.kernel.accessAllowed ? 'block' : 'none';\n",
              "        })();\n",
              "      </script>\n",
              "    </div>\n",
              "\n",
              "    </div>\n",
              "  </div>\n"
            ],
            "application/vnd.google.colaboratory.intrinsic+json": {
              "type": "dataframe"
            }
          },
          "metadata": {},
          "execution_count": 57
        }
      ]
    },
    {
      "cell_type": "code",
      "source": [
        "df2['WHS'].value_counts()"
      ],
      "metadata": {
        "id": "0ttna-AyDe05",
        "outputId": "34c3565a-c05a-444b-819d-f33f494d9f2b",
        "colab": {
          "base_uri": "https://localhost:8080/",
          "height": 178
        }
      },
      "execution_count": 61,
      "outputs": [
        {
          "output_type": "execute_result",
          "data": {
            "text/plain": [
              "WHS\n",
              "847    23245\n",
              "894     3233\n",
              "Name: count, dtype: int64"
            ],
            "text/html": [
              "<div>\n",
              "<style scoped>\n",
              "    .dataframe tbody tr th:only-of-type {\n",
              "        vertical-align: middle;\n",
              "    }\n",
              "\n",
              "    .dataframe tbody tr th {\n",
              "        vertical-align: top;\n",
              "    }\n",
              "\n",
              "    .dataframe thead th {\n",
              "        text-align: right;\n",
              "    }\n",
              "</style>\n",
              "<table border=\"1\" class=\"dataframe\">\n",
              "  <thead>\n",
              "    <tr style=\"text-align: right;\">\n",
              "      <th></th>\n",
              "      <th>count</th>\n",
              "    </tr>\n",
              "    <tr>\n",
              "      <th>WHS</th>\n",
              "      <th></th>\n",
              "    </tr>\n",
              "  </thead>\n",
              "  <tbody>\n",
              "    <tr>\n",
              "      <th>847</th>\n",
              "      <td>23245</td>\n",
              "    </tr>\n",
              "    <tr>\n",
              "      <th>894</th>\n",
              "      <td>3233</td>\n",
              "    </tr>\n",
              "  </tbody>\n",
              "</table>\n",
              "</div><br><label><b>dtype:</b> int64</label>"
            ]
          },
          "metadata": {},
          "execution_count": 61
        }
      ]
    },
    {
      "cell_type": "code",
      "source": [
        "df2['ORDER_STATUS'].value_counts()"
      ],
      "metadata": {
        "id": "vIEtltoaDDih",
        "outputId": "0b15ca55-7172-4b79-f971-e598eda2a4f6",
        "colab": {
          "base_uri": "https://localhost:8080/",
          "height": 210
        }
      },
      "execution_count": 63,
      "outputs": [
        {
          "output_type": "execute_result",
          "data": {
            "text/plain": [
              "ORDER_STATUS\n",
              "Ordered      24745\n",
              "Cancelled     1722\n",
              "Declined        11\n",
              "Name: count, dtype: int64"
            ],
            "text/html": [
              "<div>\n",
              "<style scoped>\n",
              "    .dataframe tbody tr th:only-of-type {\n",
              "        vertical-align: middle;\n",
              "    }\n",
              "\n",
              "    .dataframe tbody tr th {\n",
              "        vertical-align: top;\n",
              "    }\n",
              "\n",
              "    .dataframe thead th {\n",
              "        text-align: right;\n",
              "    }\n",
              "</style>\n",
              "<table border=\"1\" class=\"dataframe\">\n",
              "  <thead>\n",
              "    <tr style=\"text-align: right;\">\n",
              "      <th></th>\n",
              "      <th>count</th>\n",
              "    </tr>\n",
              "    <tr>\n",
              "      <th>ORDER_STATUS</th>\n",
              "      <th></th>\n",
              "    </tr>\n",
              "  </thead>\n",
              "  <tbody>\n",
              "    <tr>\n",
              "      <th>Ordered</th>\n",
              "      <td>24745</td>\n",
              "    </tr>\n",
              "    <tr>\n",
              "      <th>Cancelled</th>\n",
              "      <td>1722</td>\n",
              "    </tr>\n",
              "    <tr>\n",
              "      <th>Declined</th>\n",
              "      <td>11</td>\n",
              "    </tr>\n",
              "  </tbody>\n",
              "</table>\n",
              "</div><br><label><b>dtype:</b> int64</label>"
            ]
          },
          "metadata": {},
          "execution_count": 63
        }
      ]
    },
    {
      "cell_type": "markdown",
      "source": [
        "#Orders"
      ],
      "metadata": {
        "id": "dpxKKKuj84bb"
      }
    },
    {
      "cell_type": "markdown",
      "source": [
        "## Orders (Past 21)"
      ],
      "metadata": {
        "id": "DifKSaom9CBn"
      }
    },
    {
      "cell_type": "code",
      "source": [
        "df_ordered = df2[df2['ORDER_STATUS'] == 'Ordered']\n",
        "df_cancelled = df2[df2['ORDER_STATUS'] == 'Cancelled']\n",
        "\n",
        "plt.figure(figsize=(15, 5))\n",
        "sns.histplot(data=df_cancelled, x='ORDER_DATE')\n",
        "sns.histplot(data=df_ordered, x='ORDER_DATE')\n",
        "sns.despine()\n",
        "plt.xticks(rotation=90)\n",
        "plt.tight_layout()\n",
        "plt.show()"
      ],
      "metadata": {
        "id": "vofEdVefD5eY",
        "outputId": "1d2a4283-3b4a-432c-8469-289634bfcb0f",
        "colab": {
          "base_uri": "https://localhost:8080/",
          "height": 507
        }
      },
      "execution_count": 79,
      "outputs": [
        {
          "output_type": "display_data",
          "data": {
            "text/plain": [
              "<Figure size 1500x500 with 1 Axes>"
            ],
            "image/png": "[encoded data removed]"
          },
          "metadata": {}
        }
      ]
    },
    {
      "cell_type": "markdown",
      "source": [
        "## Sales (Past 21)"
      ],
      "metadata": {
        "id": "y3thDdRj8-gK"
      }
    },
    {
      "cell_type": "code",
      "source": [
        "\n",
        "df_sales = df2[df2['ORDER_STATUS'] == 'Ordered']\n",
        "df_sales['ORDER_DATE'] = pd.to_datetime(df_sales['ORDER_DATE'])\n",
        "df_sales['SALES'] = df_sales['ITEM_PRICE'] * df_sales['ORDERED_QTY']\n",
        "\n",
        "daily_sales = df_sales.groupby('ORDER_DATE')['SALES'].sum().reset_index()\n",
        "\n",
        "plt.figure(figsize=(15, 5))\n",
        "sns.lineplot(data=daily_sales, x='ORDER_DATE', y='SALES')\n",
        "sns.despine()\n",
        "plt.xticks(rotation=90)\n",
        "plt.tight_layout()\n",
        "plt.show()"
      ],
      "metadata": {
        "id": "EaVSBM08FYhj",
        "outputId": "3bb4696d-ac4a-48e7-d926-422cc8e4d041",
        "colab": {
          "base_uri": "https://localhost:8080/",
          "height": 714
        }
      },
      "execution_count": 77,
      "outputs": [
        {
          "output_type": "stream",
          "name": "stderr",
          "text": [
            "/tmp/ipython-input-77-2362313277.py:2: SettingWithCopyWarning: \n",
            "A value is trying to be set on a copy of a slice from a DataFrame.\n",
            "Try using .loc[row_indexer,col_indexer] = value instead\n",
            "\n",
            "See the caveats in the documentation: https://pandas.pydata.org/pandas-docs/stable/user_guide/indexing.html#returning-a-view-versus-a-copy\n",
            "  df_sales['ORDER_DATE'] = pd.to_datetime(df_sales['ORDER_DATE'])\n",
            "/tmp/ipython-input-77-2362313277.py:3: SettingWithCopyWarning: \n",
            "A value is trying to be set on a copy of a slice from a DataFrame.\n",
            "Try using .loc[row_indexer,col_indexer] = value instead\n",
            "\n",
            "See the caveats in the documentation: https://pandas.pydata.org/pandas-docs/stable/user_guide/indexing.html#returning-a-view-versus-a-copy\n",
            "  df_sales['SALES'] = df_sales['ITEM_PRICE'] * df_sales['ORDERED_QTY']\n"
          ]
        },
        {
          "output_type": "display_data",
          "data": {
            "text/plain": [
              "<Figure size 1500x500 with 1 Axes>"
            ],
            "image/png": "[encoded data removed]"
          },
          "metadata": {}
        }
      ]
    },
    {
      "cell_type": "markdown",
      "source": [
        "##Units (Past 21)"
      ],
      "metadata": {
        "id": "cZcSyb-39HMs"
      }
    },
    {
      "cell_type": "markdown",
      "source": [
        "#Cancels"
      ],
      "metadata": {
        "id": "AkRtvtXX86UN"
      }
    },
    {
      "cell_type": "code",
      "source": [],
      "metadata": {
        "id": "VTDao6tu8mdU"
      },
      "execution_count": null,
      "outputs": []
    }
  ]
}